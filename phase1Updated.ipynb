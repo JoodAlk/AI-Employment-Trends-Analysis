{
  "metadata": {
    "kernelspec": {
      "name": "python",
      "display_name": "Python (Pyodide)",
      "language": "python"
    },
    "language_info": {
      "codemirror_mode": {
        "name": "python",
        "version": 3
      },
      "file_extension": ".py",
      "mimetype": "text/x-python",
      "name": "python",
      "nbconvert_exporter": "python",
      "pygments_lexer": "ipython3",
      "version": "3.8"
    }
  },
  "nbformat_minor": 4,
  "nbformat": 4,
  "cells": [
    {
      "cell_type": "markdown",
      "source": "The goal of collecting this dataset: is to explore how AI and automation are influencing employment across different industries by using two main approaches. First, classification techniques will be employed to group job roles based on their level of AI adoption (e.g., low, medium, high), helping to reveal trends in which types of jobs are embracing AI the most. Second, clustering methods will assess automation risks across industries, identifying sectors most vulnerable to automation. By analyzing the automation risk across sectors, the study will highlight which industries are more prone to job displacement due to automation, as well as which ones are more resilient.\n\nThis analysis, using 500 job listings, will also examine the impact on salaries, required skills, and job growth projections, providing a well-rounded view of the future job market. The class label in this dataset is the 'Job_Growth_Projection', which categorizes job roles as either experiencing \"Growth\" or \"Decline\" or \"Stable\". This label represents the expected future trend for each job role and industry, allowing us to analyze which roles are likely to expand or shrink in the coming years.",
      "metadata": {}
    },
    {
      "cell_type": "code",
      "source": "import pandas as pd\n\nfile_path = 'ai_job_market_insights.csv'\ndf = pd.read_csv(file_path)\n\nnum_attributes = df.shape[1]\n\nattribute_types = df.dtypes\n\nnum_objects = df.shape[0]\n\nclass_label_name = df.columns[-1]\n\nprint(f\"Number of attributes: {num_attributes}\")\nprint(f\"Type of attributes:\\n{attribute_types}\")\nprint(f\"Number of objects: {num_objects}\")\nprint(f\"Class or label name: {class_label_name}\")  \n\nprint(\"First 5 lines:\")\nprint(df.head())\n\nprint(\"\\nLast 5 lines:\")\nprint(df.tail())\n",
      "metadata": {
        "trusted": true
      },
      "outputs": [
        {
          "name": "stdout",
          "text": "Number of attributes: 10\nType of attributes:\nJob_Title                 object\nIndustry                  object\nCompany_Size              object\nLocation                  object\nAI_Adoption_Level         object\nAutomation_Risk           object\nRequired_Skills           object\nSalary_USD               float64\nRemote_Friendly           object\nJob_Growth_Projection     object\ndtype: object\nNumber of objects: 500\nClass or label name: Job_Growth_Projection\nFirst 5 lines:\n               Job_Title       Industry Company_Size   Location  \\\n0  Cybersecurity Analyst  Entertainment        Small      Dubai   \n1   Marketing Specialist     Technology        Large  Singapore   \n2          AI Researcher     Technology        Large  Singapore   \n3          Sales Manager         Retail        Small     Berlin   \n4  Cybersecurity Analyst  Entertainment        Small      Tokyo   \n\n  AI_Adoption_Level Automation_Risk     Required_Skills     Salary_USD  \\\n0            Medium            High        UX/UI Design  111392.165243   \n1            Medium            High           Marketing   93792.562466   \n2            Medium            High        UX/UI Design  107170.263069   \n3               Low            High  Project Management   93027.953758   \n4               Low             Low          JavaScript   87752.922171   \n\n  Remote_Friendly Job_Growth_Projection  \n0             Yes                Growth  \n1              No               Decline  \n2             Yes                Growth  \n3              No                Growth  \n4             Yes               Decline  \n\nLast 5 lines:\n                 Job_Title            Industry Company_Size Location  \\\n495         Data Scientist  Telecommunications       Medium   Berlin   \n496  Cybersecurity Analyst  Telecommunications        Small   London   \n497  Cybersecurity Analyst              Energy        Large    Dubai   \n498     Operations Manager          Healthcare        Large    Paris   \n499             HR Manager       Entertainment       Medium   Berlin   \n\n    AI_Adoption_Level Automation_Risk     Required_Skills     Salary_USD  \\\n495               Low          Medium    Machine Learning  105821.394046   \n496               Low            High        UX/UI Design  119794.992146   \n497              High             Low        UX/UI Design   79644.933099   \n498              High             Low              Python   77642.150625   \n499            Medium            High  Project Management   68764.378921   \n\n    Remote_Friendly Job_Growth_Projection  \n495             Yes                Stable  \n496              No               Decline  \n497             Yes                Stable  \n498             Yes                Stable  \n499             Yes               Decline  \n",
          "output_type": "stream"
        }
      ],
      "execution_count": 4
    }
  ]
}