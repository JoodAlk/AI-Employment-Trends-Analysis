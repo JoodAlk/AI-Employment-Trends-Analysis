{
  "nbformat": 4,
  "nbformat_minor": 0,
  "metadata": {
    "colab": {
      "provenance": []
    },
    "kernelspec": {
      "name": "python3",
      "display_name": "Python 3"
    },
    "language_info": {
      "name": "python"
    }
  },
  "cells": [
    {
      "cell_type": "code",
      "execution_count": 19,
      "metadata": {
        "id": "_sjzvrTH7pOf"
      },
      "outputs": [],
      "source": [
        "import pandas as pd\n",
        "import numpy as np\n",
        "from sklearn.preprocessing import MinMaxScaler\n",
        "import matplotlib.pyplot as plt\n",
        "from sklearn.preprocessing import LabelEncoder\n",
        "\n",
        "\n",
        "data = pd.read_csv('ai_job_market_insights.csv')\n",
        "df=pd.DataFrame(data)"
      ]
    },
    {
      "cell_type": "markdown",
      "source": [
        "detect outliners"
      ],
      "metadata": {
        "id": "CJVWUdjd7yjD"
      }
    },
    {
      "cell_type": "code",
      "source": [
        "#In our project analyzing how AI and automation impact employment, we used outlier detection to improve data accuracy\n",
        "\n",
        "\n",
        "\n",
        "outlier_threshold = 1.5\n",
        "\n",
        "def count_outliers(column_data):\n",
        "    q1 = np.percentile(column_data, 25)\n",
        "    q3 = np.percentile(column_data, 75)\n",
        "    iqr = q3 - q1\n",
        "    upper_bound = q3 + outlier_threshold * iqr\n",
        "    lower_bound = q1 - outlier_threshold * iqr\n",
        "    outliers = (column_data > upper_bound) | (column_data < lower_bound)\n",
        "    return sum(outliers)\n",
        "\n",
        "numeric_columns = data.select_dtypes(include=[np.number]).columns\n",
        "\n",
        "outlier_counts = {}\n",
        "total_rows_with_outliers = 0\n",
        "\n",
        "for column in numeric_columns:\n",
        "    outliers = count_outliers(data[column])\n",
        "    outlier_counts[column] = outliers\n",
        "    total_rows_with_outliers += outliers\n",
        "\n",
        "total_rows = len(data)\n",
        "\n",
        "print(\"Outlier Counts:\")\n",
        "for column, count in outlier_counts.items():\n",
        "    print(f\"{column}: {count} rows with outliers\")\n",
        "\n",
        "print(f\"Total Rows with Outliers: {total_rows_with_outliers}\")\n",
        "\n",
        "\n",
        "\n",
        "\n",
        "\n"
      ],
      "metadata": {
        "id": "f0zvf4v07zv5",
        "colab": {
          "base_uri": "https://localhost:8080/"
        },
        "outputId": "1baea8b4-7634-45c0-f541-7ec3758b4c32"
      },
      "execution_count": 21,
      "outputs": [
        {
          "output_type": "stream",
          "name": "stdout",
          "text": [
            "Outlier Counts:\n",
            "Salary_USD: 5 rows with outliers\n",
            "Total Rows with Outliers: 5\n"
          ]
        }
      ]
    },
    {
      "cell_type": "markdown",
      "source": [
        "We focused on numeric columns, like salaries, calculating the first (Q1)\n",
        "and third quartiles (Q3) to find the interquartile range (IQR).\n",
        "We set outlier boundaries at Q3 + 1.5 * IQR (upper) and Q1 - 1.5 * IQR\n",
        "(lower) and counted the outliers in each numeric column. This process\n",
        "helps clean the data, ensuring clearer insights into averages like\n",
        "salaries and enhances the performance of any future machine learning\n",
        "models. Ultimately, detecting outliers allows us to better understand\n",
        "trends in the job market influenced by AI and automation."
      ],
      "metadata": {
        "id": "tMh9Qmsh-7yX"
      }
    },
    {
      "cell_type": "markdown",
      "source": [
        "removing outliners"
      ],
      "metadata": {
        "id": "xCCwh7ya7s0v"
      }
    },
    {
      "cell_type": "code",
      "source": [
        "\n",
        "# Calculate the IQR (Interquartile Range)\n",
        "Q1 = data['Salary_USD'].quantile(0.25) # Calculate the first quartile (25th percentile)\n",
        "Q3 = data['Salary_USD'].quantile(0.75) # Calculate the third quartile (75th percentile)\n",
        "IQR = Q3 - Q1\n",
        "\n",
        "# Define the bounds for outliers\n",
        "lower_bound = Q1 - 1.5 * IQR\n",
        "upper_bound = Q3 + 1.5 * IQR\n",
        "\n",
        "# Filter the data to remove outliers\n",
        "cleaned_data = data[(data['Salary_USD'] >= lower_bound) & (data['Salary_USD'] <= upper_bound)]\n",
        "\n",
        "\n",
        "# Display the removed rows to understand what was filtered out\n",
        "removed_rows = data[(data['Salary_USD'] < lower_bound) | (data['Salary_USD'] > upper_bound)]\n",
        "print(\"\\nRemoved Rows (Outliers):\")\n",
        "print(removed_rows)\n",
        "\n",
        "\n",
        "\n",
        "\n",
        "\n"
      ],
      "metadata": {
        "id": "rRGJFO108fzd",
        "colab": {
          "base_uri": "https://localhost:8080/"
        },
        "outputId": "91408419-cc35-479d-dd17-2834ae4a5b4f"
      },
      "execution_count": 22,
      "outputs": [
        {
          "output_type": "stream",
          "name": "stdout",
          "text": [
            "\n",
            "Removed Rows (Outliers):\n",
            "                 Job_Title            Industry Company_Size       Location  \\\n",
            "182         Data Scientist      Transportation        Small       New York   \n",
            "289         Data Scientist          Healthcare       Medium          Paris   \n",
            "384  Cybersecurity Analyst  Telecommunications        Large         Berlin   \n",
            "420   Marketing Specialist             Finance       Medium  San Francisco   \n",
            "425            UX Designer       Entertainment        Small      Singapore   \n",
            "\n",
            "    AI_Adoption_Level Automation_Risk Required_Skills     Salary_USD  \\\n",
            "182               Low             Low          Python   31969.526346   \n",
            "289              High             Low          Python  148467.112346   \n",
            "384               Low          Medium    UX/UI Design   33601.381360   \n",
            "420              High            High           Sales  155209.821614   \n",
            "425            Medium          Medium   Data Analysis   35963.297317   \n",
            "\n",
            "    Remote_Friendly Job_Growth_Projection  \n",
            "182             Yes                Growth  \n",
            "289             Yes                Stable  \n",
            "384              No                Stable  \n",
            "420             Yes               Decline  \n",
            "425              No               Decline  \n"
          ]
        }
      ]
    },
    {
      "cell_type": "markdown",
      "source": [
        "In our analysis of salary data, we used the Interquartile Range (IQR) method\n",
        "to identify and remove outliers from the Salary_USD column. First, we calculated\n",
        "the first (Q1) and third quartiles (Q3) to determine the IQR, which measures\n",
        "the middle 50% of the data. We defined outlier thresholds by setting the lower\n",
        "bound as Q1 - 1.5 * IQR and the upper bound as Q3 + 1.5 * IQR. Then, we filtered\n",
        "the data to create a new DataFrame, cleaned_data, that included only those rows\n",
        "where salaries fell within these bounds, ensuring that our analysis would be\n",
        "more accurate. Finally, we displayed the rows that were removed as outliers\n",
        "to provide transparency in our data cleaning process. By addressing outliers\n",
        "in this way, we enhance the reliability of our salary analysis, leading to\n",
        "clearer insights into how AI and automation are influencing job markets."
      ],
      "metadata": {
        "id": "rHjQrdtF_G-p"
      }
    },
    {
      "cell_type": "markdown",
      "source": [
        "Encoding"
      ],
      "metadata": {
        "id": "1K7VoFmW8lk1"
      }
    },
    {
      "cell_type": "code",
      "source": [
        "\n",
        "\n",
        "# Redefining the necessary variables to apply encoding directly to the original dataframe\n",
        "columns_to_encode = ['Job_Title', 'Industry', 'Company_Size', 'Location',\n",
        "                     'AI_Adoption_Level', 'Automation_Risk', 'Required_Skills',\n",
        "                     'Remote_Friendly', 'Job_Growth_Projection']\n",
        "\n",
        "# Re-initialize the LabelEncoder\n",
        "label_encoder = LabelEncoder()\n",
        "\n",
        "# Apply the encoding directly to the original dataframe without creating a copy\n",
        "for column in columns_to_encode:\n",
        "    df[column] = label_encoder.fit_transform(df[column])\n",
        "\n",
        "# Display the first few rows of the modified original dataframe to verify the changes\n",
        "df.head()\n",
        "\n",
        "\n",
        "\n",
        "\n"
      ],
      "metadata": {
        "id": "pcBZdHsB8rQa",
        "colab": {
          "base_uri": "https://localhost:8080/",
          "height": 226
        },
        "outputId": "0ee7357d-8f6f-437a-acf0-da446d87d7f3"
      },
      "execution_count": 23,
      "outputs": [
        {
          "output_type": "execute_result",
          "data": {
            "text/plain": [
              "   Job_Title  Industry  Company_Size  Location  AI_Adoption_Level  \\\n",
              "0          1         2             2         1                  2   \n",
              "1          4         7             0         6                  2   \n",
              "2          0         7             0         6                  2   \n",
              "3          7         6             2         0                  1   \n",
              "4          1         2             2         8                  1   \n",
              "\n",
              "   Automation_Risk  Required_Skills     Salary_USD  Remote_Friendly  \\\n",
              "0                0                9  111392.165243                1   \n",
              "1                0                5   93792.562466                0   \n",
              "2                0                9  107170.263069                1   \n",
              "3                0                6   93027.953758                0   \n",
              "4                1                3   87752.922171                1   \n",
              "\n",
              "   Job_Growth_Projection  \n",
              "0                      1  \n",
              "1                      0  \n",
              "2                      1  \n",
              "3                      1  \n",
              "4                      0  "
            ],
            "text/html": [
              "\n",
              "  <div id=\"df-a5b9290c-bbd1-4878-9c99-5187cb6e6592\" class=\"colab-df-container\">\n",
              "    <div>\n",
              "<style scoped>\n",
              "    .dataframe tbody tr th:only-of-type {\n",
              "        vertical-align: middle;\n",
              "    }\n",
              "\n",
              "    .dataframe tbody tr th {\n",
              "        vertical-align: top;\n",
              "    }\n",
              "\n",
              "    .dataframe thead th {\n",
              "        text-align: right;\n",
              "    }\n",
              "</style>\n",
              "<table border=\"1\" class=\"dataframe\">\n",
              "  <thead>\n",
              "    <tr style=\"text-align: right;\">\n",
              "      <th></th>\n",
              "      <th>Job_Title</th>\n",
              "      <th>Industry</th>\n",
              "      <th>Company_Size</th>\n",
              "      <th>Location</th>\n",
              "      <th>AI_Adoption_Level</th>\n",
              "      <th>Automation_Risk</th>\n",
              "      <th>Required_Skills</th>\n",
              "      <th>Salary_USD</th>\n",
              "      <th>Remote_Friendly</th>\n",
              "      <th>Job_Growth_Projection</th>\n",
              "    </tr>\n",
              "  </thead>\n",
              "  <tbody>\n",
              "    <tr>\n",
              "      <th>0</th>\n",
              "      <td>1</td>\n",
              "      <td>2</td>\n",
              "      <td>2</td>\n",
              "      <td>1</td>\n",
              "      <td>2</td>\n",
              "      <td>0</td>\n",
              "      <td>9</td>\n",
              "      <td>111392.165243</td>\n",
              "      <td>1</td>\n",
              "      <td>1</td>\n",
              "    </tr>\n",
              "    <tr>\n",
              "      <th>1</th>\n",
              "      <td>4</td>\n",
              "      <td>7</td>\n",
              "      <td>0</td>\n",
              "      <td>6</td>\n",
              "      <td>2</td>\n",
              "      <td>0</td>\n",
              "      <td>5</td>\n",
              "      <td>93792.562466</td>\n",
              "      <td>0</td>\n",
              "      <td>0</td>\n",
              "    </tr>\n",
              "    <tr>\n",
              "      <th>2</th>\n",
              "      <td>0</td>\n",
              "      <td>7</td>\n",
              "      <td>0</td>\n",
              "      <td>6</td>\n",
              "      <td>2</td>\n",
              "      <td>0</td>\n",
              "      <td>9</td>\n",
              "      <td>107170.263069</td>\n",
              "      <td>1</td>\n",
              "      <td>1</td>\n",
              "    </tr>\n",
              "    <tr>\n",
              "      <th>3</th>\n",
              "      <td>7</td>\n",
              "      <td>6</td>\n",
              "      <td>2</td>\n",
              "      <td>0</td>\n",
              "      <td>1</td>\n",
              "      <td>0</td>\n",
              "      <td>6</td>\n",
              "      <td>93027.953758</td>\n",
              "      <td>0</td>\n",
              "      <td>1</td>\n",
              "    </tr>\n",
              "    <tr>\n",
              "      <th>4</th>\n",
              "      <td>1</td>\n",
              "      <td>2</td>\n",
              "      <td>2</td>\n",
              "      <td>8</td>\n",
              "      <td>1</td>\n",
              "      <td>1</td>\n",
              "      <td>3</td>\n",
              "      <td>87752.922171</td>\n",
              "      <td>1</td>\n",
              "      <td>0</td>\n",
              "    </tr>\n",
              "  </tbody>\n",
              "</table>\n",
              "</div>\n",
              "    <div class=\"colab-df-buttons\">\n",
              "\n",
              "  <div class=\"colab-df-container\">\n",
              "    <button class=\"colab-df-convert\" onclick=\"convertToInteractive('df-a5b9290c-bbd1-4878-9c99-5187cb6e6592')\"\n",
              "            title=\"Convert this dataframe to an interactive table.\"\n",
              "            style=\"display:none;\">\n",
              "\n",
              "  <svg xmlns=\"http://www.w3.org/2000/svg\" height=\"24px\" viewBox=\"0 -960 960 960\">\n",
              "    <path d=\"M120-120v-720h720v720H120Zm60-500h600v-160H180v160Zm220 220h160v-160H400v160Zm0 220h160v-160H400v160ZM180-400h160v-160H180v160Zm440 0h160v-160H620v160ZM180-180h160v-160H180v160Zm440 0h160v-160H620v160Z\"/>\n",
              "  </svg>\n",
              "    </button>\n",
              "\n",
              "  <style>\n",
              "    .colab-df-container {\n",
              "      display:flex;\n",
              "      gap: 12px;\n",
              "    }\n",
              "\n",
              "    .colab-df-convert {\n",
              "      background-color: #E8F0FE;\n",
              "      border: none;\n",
              "      border-radius: 50%;\n",
              "      cursor: pointer;\n",
              "      display: none;\n",
              "      fill: #1967D2;\n",
              "      height: 32px;\n",
              "      padding: 0 0 0 0;\n",
              "      width: 32px;\n",
              "    }\n",
              "\n",
              "    .colab-df-convert:hover {\n",
              "      background-color: #E2EBFA;\n",
              "      box-shadow: 0px 1px 2px rgba(60, 64, 67, 0.3), 0px 1px 3px 1px rgba(60, 64, 67, 0.15);\n",
              "      fill: #174EA6;\n",
              "    }\n",
              "\n",
              "    .colab-df-buttons div {\n",
              "      margin-bottom: 4px;\n",
              "    }\n",
              "\n",
              "    [theme=dark] .colab-df-convert {\n",
              "      background-color: #3B4455;\n",
              "      fill: #D2E3FC;\n",
              "    }\n",
              "\n",
              "    [theme=dark] .colab-df-convert:hover {\n",
              "      background-color: #434B5C;\n",
              "      box-shadow: 0px 1px 3px 1px rgba(0, 0, 0, 0.15);\n",
              "      filter: drop-shadow(0px 1px 2px rgba(0, 0, 0, 0.3));\n",
              "      fill: #FFFFFF;\n",
              "    }\n",
              "  </style>\n",
              "\n",
              "    <script>\n",
              "      const buttonEl =\n",
              "        document.querySelector('#df-a5b9290c-bbd1-4878-9c99-5187cb6e6592 button.colab-df-convert');\n",
              "      buttonEl.style.display =\n",
              "        google.colab.kernel.accessAllowed ? 'block' : 'none';\n",
              "\n",
              "      async function convertToInteractive(key) {\n",
              "        const element = document.querySelector('#df-a5b9290c-bbd1-4878-9c99-5187cb6e6592');\n",
              "        const dataTable =\n",
              "          await google.colab.kernel.invokeFunction('convertToInteractive',\n",
              "                                                    [key], {});\n",
              "        if (!dataTable) return;\n",
              "\n",
              "        const docLinkHtml = 'Like what you see? Visit the ' +\n",
              "          '<a target=\"_blank\" href=https://colab.research.google.com/notebooks/data_table.ipynb>data table notebook</a>'\n",
              "          + ' to learn more about interactive tables.';\n",
              "        element.innerHTML = '';\n",
              "        dataTable['output_type'] = 'display_data';\n",
              "        await google.colab.output.renderOutput(dataTable, element);\n",
              "        const docLink = document.createElement('div');\n",
              "        docLink.innerHTML = docLinkHtml;\n",
              "        element.appendChild(docLink);\n",
              "      }\n",
              "    </script>\n",
              "  </div>\n",
              "\n",
              "\n",
              "<div id=\"df-29b8612a-1621-481b-adb2-967b44931d34\">\n",
              "  <button class=\"colab-df-quickchart\" onclick=\"quickchart('df-29b8612a-1621-481b-adb2-967b44931d34')\"\n",
              "            title=\"Suggest charts\"\n",
              "            style=\"display:none;\">\n",
              "\n",
              "<svg xmlns=\"http://www.w3.org/2000/svg\" height=\"24px\"viewBox=\"0 0 24 24\"\n",
              "     width=\"24px\">\n",
              "    <g>\n",
              "        <path d=\"M19 3H5c-1.1 0-2 .9-2 2v14c0 1.1.9 2 2 2h14c1.1 0 2-.9 2-2V5c0-1.1-.9-2-2-2zM9 17H7v-7h2v7zm4 0h-2V7h2v10zm4 0h-2v-4h2v4z\"/>\n",
              "    </g>\n",
              "</svg>\n",
              "  </button>\n",
              "\n",
              "<style>\n",
              "  .colab-df-quickchart {\n",
              "      --bg-color: #E8F0FE;\n",
              "      --fill-color: #1967D2;\n",
              "      --hover-bg-color: #E2EBFA;\n",
              "      --hover-fill-color: #174EA6;\n",
              "      --disabled-fill-color: #AAA;\n",
              "      --disabled-bg-color: #DDD;\n",
              "  }\n",
              "\n",
              "  [theme=dark] .colab-df-quickchart {\n",
              "      --bg-color: #3B4455;\n",
              "      --fill-color: #D2E3FC;\n",
              "      --hover-bg-color: #434B5C;\n",
              "      --hover-fill-color: #FFFFFF;\n",
              "      --disabled-bg-color: #3B4455;\n",
              "      --disabled-fill-color: #666;\n",
              "  }\n",
              "\n",
              "  .colab-df-quickchart {\n",
              "    background-color: var(--bg-color);\n",
              "    border: none;\n",
              "    border-radius: 50%;\n",
              "    cursor: pointer;\n",
              "    display: none;\n",
              "    fill: var(--fill-color);\n",
              "    height: 32px;\n",
              "    padding: 0;\n",
              "    width: 32px;\n",
              "  }\n",
              "\n",
              "  .colab-df-quickchart:hover {\n",
              "    background-color: var(--hover-bg-color);\n",
              "    box-shadow: 0 1px 2px rgba(60, 64, 67, 0.3), 0 1px 3px 1px rgba(60, 64, 67, 0.15);\n",
              "    fill: var(--button-hover-fill-color);\n",
              "  }\n",
              "\n",
              "  .colab-df-quickchart-complete:disabled,\n",
              "  .colab-df-quickchart-complete:disabled:hover {\n",
              "    background-color: var(--disabled-bg-color);\n",
              "    fill: var(--disabled-fill-color);\n",
              "    box-shadow: none;\n",
              "  }\n",
              "\n",
              "  .colab-df-spinner {\n",
              "    border: 2px solid var(--fill-color);\n",
              "    border-color: transparent;\n",
              "    border-bottom-color: var(--fill-color);\n",
              "    animation:\n",
              "      spin 1s steps(1) infinite;\n",
              "  }\n",
              "\n",
              "  @keyframes spin {\n",
              "    0% {\n",
              "      border-color: transparent;\n",
              "      border-bottom-color: var(--fill-color);\n",
              "      border-left-color: var(--fill-color);\n",
              "    }\n",
              "    20% {\n",
              "      border-color: transparent;\n",
              "      border-left-color: var(--fill-color);\n",
              "      border-top-color: var(--fill-color);\n",
              "    }\n",
              "    30% {\n",
              "      border-color: transparent;\n",
              "      border-left-color: var(--fill-color);\n",
              "      border-top-color: var(--fill-color);\n",
              "      border-right-color: var(--fill-color);\n",
              "    }\n",
              "    40% {\n",
              "      border-color: transparent;\n",
              "      border-right-color: var(--fill-color);\n",
              "      border-top-color: var(--fill-color);\n",
              "    }\n",
              "    60% {\n",
              "      border-color: transparent;\n",
              "      border-right-color: var(--fill-color);\n",
              "    }\n",
              "    80% {\n",
              "      border-color: transparent;\n",
              "      border-right-color: var(--fill-color);\n",
              "      border-bottom-color: var(--fill-color);\n",
              "    }\n",
              "    90% {\n",
              "      border-color: transparent;\n",
              "      border-bottom-color: var(--fill-color);\n",
              "    }\n",
              "  }\n",
              "</style>\n",
              "\n",
              "  <script>\n",
              "    async function quickchart(key) {\n",
              "      const quickchartButtonEl =\n",
              "        document.querySelector('#' + key + ' button');\n",
              "      quickchartButtonEl.disabled = true;  // To prevent multiple clicks.\n",
              "      quickchartButtonEl.classList.add('colab-df-spinner');\n",
              "      try {\n",
              "        const charts = await google.colab.kernel.invokeFunction(\n",
              "            'suggestCharts', [key], {});\n",
              "      } catch (error) {\n",
              "        console.error('Error during call to suggestCharts:', error);\n",
              "      }\n",
              "      quickchartButtonEl.classList.remove('colab-df-spinner');\n",
              "      quickchartButtonEl.classList.add('colab-df-quickchart-complete');\n",
              "    }\n",
              "    (() => {\n",
              "      let quickchartButtonEl =\n",
              "        document.querySelector('#df-29b8612a-1621-481b-adb2-967b44931d34 button');\n",
              "      quickchartButtonEl.style.display =\n",
              "        google.colab.kernel.accessAllowed ? 'block' : 'none';\n",
              "    })();\n",
              "  </script>\n",
              "</div>\n",
              "\n",
              "    </div>\n",
              "  </div>\n"
            ],
            "application/vnd.google.colaboratory.intrinsic+json": {
              "type": "dataframe",
              "variable_name": "df",
              "summary": "{\n  \"name\": \"df\",\n  \"rows\": 500,\n  \"fields\": [\n    {\n      \"column\": \"Job_Title\",\n      \"properties\": {\n        \"dtype\": \"number\",\n        \"std\": 2,\n        \"min\": 0,\n        \"max\": 9,\n        \"num_unique_values\": 10,\n        \"samples\": [\n          2,\n          4,\n          3\n        ],\n        \"semantic_type\": \"\",\n        \"description\": \"\"\n      }\n    },\n    {\n      \"column\": \"Industry\",\n      \"properties\": {\n        \"dtype\": \"number\",\n        \"std\": 2,\n        \"min\": 0,\n        \"max\": 9,\n        \"num_unique_values\": 10,\n        \"samples\": [\n          4,\n          7,\n          9\n        ],\n        \"semantic_type\": \"\",\n        \"description\": \"\"\n      }\n    },\n    {\n      \"column\": \"Company_Size\",\n      \"properties\": {\n        \"dtype\": \"number\",\n        \"std\": 0,\n        \"min\": 0,\n        \"max\": 2,\n        \"num_unique_values\": 3,\n        \"samples\": [\n          2,\n          0,\n          1\n        ],\n        \"semantic_type\": \"\",\n        \"description\": \"\"\n      }\n    },\n    {\n      \"column\": \"Location\",\n      \"properties\": {\n        \"dtype\": \"number\",\n        \"std\": 2,\n        \"min\": 0,\n        \"max\": 9,\n        \"num_unique_values\": 10,\n        \"samples\": [\n          3,\n          6,\n          2\n        ],\n        \"semantic_type\": \"\",\n        \"description\": \"\"\n      }\n    },\n    {\n      \"column\": \"AI_Adoption_Level\",\n      \"properties\": {\n        \"dtype\": \"number\",\n        \"std\": 0,\n        \"min\": 0,\n        \"max\": 2,\n        \"num_unique_values\": 3,\n        \"samples\": [\n          2,\n          1,\n          0\n        ],\n        \"semantic_type\": \"\",\n        \"description\": \"\"\n      }\n    },\n    {\n      \"column\": \"Automation_Risk\",\n      \"properties\": {\n        \"dtype\": \"number\",\n        \"std\": 0,\n        \"min\": 0,\n        \"max\": 2,\n        \"num_unique_values\": 3,\n        \"samples\": [\n          0,\n          1,\n          2\n        ],\n        \"semantic_type\": \"\",\n        \"description\": \"\"\n      }\n    },\n    {\n      \"column\": \"Required_Skills\",\n      \"properties\": {\n        \"dtype\": \"number\",\n        \"std\": 2,\n        \"min\": 0,\n        \"max\": 9,\n        \"num_unique_values\": 10,\n        \"samples\": [\n          2,\n          5,\n          8\n        ],\n        \"semantic_type\": \"\",\n        \"description\": \"\"\n      }\n    },\n    {\n      \"column\": \"Salary_USD\",\n      \"properties\": {\n        \"dtype\": \"number\",\n        \"std\": 20504.291453477774,\n        \"min\": 31969.52634612842,\n        \"max\": 155209.82161382848,\n        \"num_unique_values\": 500,\n        \"samples\": [\n          140475.99581234064,\n          75497.33812967277,\n          118489.24026265267\n        ],\n        \"semantic_type\": \"\",\n        \"description\": \"\"\n      }\n    },\n    {\n      \"column\": \"Remote_Friendly\",\n      \"properties\": {\n        \"dtype\": \"number\",\n        \"std\": 0,\n        \"min\": 0,\n        \"max\": 1,\n        \"num_unique_values\": 2,\n        \"samples\": [\n          0,\n          1\n        ],\n        \"semantic_type\": \"\",\n        \"description\": \"\"\n      }\n    },\n    {\n      \"column\": \"Job_Growth_Projection\",\n      \"properties\": {\n        \"dtype\": \"number\",\n        \"std\": 0,\n        \"min\": 0,\n        \"max\": 2,\n        \"num_unique_values\": 3,\n        \"samples\": [\n          1,\n          0\n        ],\n        \"semantic_type\": \"\",\n        \"description\": \"\"\n      }\n    }\n  ]\n}"
            }
          },
          "metadata": {},
          "execution_count": 23
        }
      ]
    },
    {
      "cell_type": "markdown",
      "source": [
        "In this section, we redefine the necessary variables for encoding categorical\n",
        "features directly in the original DataFrame. We specify the columns to be\n",
        "encoded, including 'Job_Title', 'Industry', 'Company_Size', 'Location',\n",
        "'AI_Adoption_Level', 'Automation_Risk', 'Required_Skills', 'Remote_Friendly',\n",
        "and 'Job_Growth_Projection'. We then initialize the LabelEncoder from the\n",
        "sklearn.preprocessing module.\n",
        "\n",
        "Using a for loop, we apply the LabelEncoder to each specified column,\n",
        "transforming the categorical values into numeric representations directly\n",
        "in the original DataFrame without creating a copy. This approach helps\n",
        "prepare the data for machine learning algorithms, which require numerical\n",
        "input. Finally, we display the first few rows of the modified DataFrame\n",
        "to verify that the encoding was successful and to check the changes made."
      ],
      "metadata": {
        "id": "AQ55sNfN_prJ"
      }
    },
    {
      "cell_type": "markdown",
      "source": [
        "normalization"
      ],
      "metadata": {
        "id": "8mkPbR4M8wD3"
      }
    },
    {
      "cell_type": "code",
      "source": [
        "\n",
        "\n",
        "columns_to_normalize = ['Job_Title','Industry','Company_Size' ,'Location','AI_Adoption_Level', 'Automation_Risk','Required_Skills','Salary_USD', 'Job_Growth_Projection']\n",
        "# Removed columns containing string values: 'Industry', 'Company_Size', 'Location', 'Required_Skills'\n",
        "\n",
        "\n",
        "# Decimal scaling normalization\n",
        "for column in columns_to_normalize:\n",
        "    max_abs_value = df[column].abs().max()\n",
        "    df[column] = df[column] / (10 ** len(str(int(max_abs_value))))\n",
        "\n",
        "print(\"DataFrame after Decimal Scaling Normalization:\")\n",
        "print(df)\n",
        "\n",
        "\n",
        "\n"
      ],
      "metadata": {
        "id": "g8P9_QBd8y5E",
        "colab": {
          "base_uri": "https://localhost:8080/"
        },
        "outputId": "05f043a7-bd32-443d-a09b-9d62b29c917e"
      },
      "execution_count": 24,
      "outputs": [
        {
          "output_type": "stream",
          "name": "stdout",
          "text": [
            "DataFrame after Decimal Scaling Normalization:\n",
            "     Job_Title  Industry  Company_Size  Location  AI_Adoption_Level  \\\n",
            "0          0.1       0.2           0.2       0.1                0.2   \n",
            "1          0.4       0.7           0.0       0.6                0.2   \n",
            "2          0.0       0.7           0.0       0.6                0.2   \n",
            "3          0.7       0.6           0.2       0.0                0.1   \n",
            "4          0.1       0.2           0.2       0.8                0.1   \n",
            "..         ...       ...           ...       ...                ...   \n",
            "495        0.2       0.8           0.1       0.0                0.1   \n",
            "496        0.1       0.8           0.2       0.2                0.1   \n",
            "497        0.1       0.1           0.0       0.1                0.0   \n",
            "498        0.5       0.4           0.0       0.4                0.0   \n",
            "499        0.3       0.2           0.1       0.0                0.2   \n",
            "\n",
            "     Automation_Risk  Required_Skills  Salary_USD  Remote_Friendly  \\\n",
            "0                0.0              0.9    0.111392                1   \n",
            "1                0.0              0.5    0.093793                0   \n",
            "2                0.0              0.9    0.107170                1   \n",
            "3                0.0              0.6    0.093028                0   \n",
            "4                0.1              0.3    0.087753                1   \n",
            "..               ...              ...         ...              ...   \n",
            "495              0.2              0.4    0.105821                1   \n",
            "496              0.0              0.9    0.119795                0   \n",
            "497              0.1              0.9    0.079645                1   \n",
            "498              0.1              0.7    0.077642                1   \n",
            "499              0.0              0.6    0.068764                1   \n",
            "\n",
            "     Job_Growth_Projection  \n",
            "0                      0.1  \n",
            "1                      0.0  \n",
            "2                      0.1  \n",
            "3                      0.1  \n",
            "4                      0.0  \n",
            "..                     ...  \n",
            "495                    0.2  \n",
            "496                    0.0  \n",
            "497                    0.2  \n",
            "498                    0.2  \n",
            "499                    0.0  \n",
            "\n",
            "[500 rows x 10 columns]\n"
          ]
        }
      ]
    },
    {
      "cell_type": "markdown",
      "source": [
        " we define a list of columns to normalize, which includes\n",
        "'Job_Title', 'Industry', 'Company_Size', 'Location', 'AI_Adoption_Level',\n",
        "'Automation_Risk', 'Required_Skills', 'Salary_USD', and 'Job_Growth_Projection'.\n",
        "\n",
        "We apply decimal scaling normalization to each specified column. This method\n",
        "normalizes the data by dividing each value by a power of 10, specifically\n",
        "the length of the maximum absolute value in that column. This ensures that\n",
        "the normalized values are within the range of -1 to 1, making the data\n",
        "more suitable for machine learning algorithms that may be sensitive to\n",
        "the scale of the input features.\n",
        "\n",
        "Finally, we print the modified DataFrame to confirm that the decimal scaling\n",
        "normalization has been successfully applied, allowing us to observe the\n",
        "transformed values."
      ],
      "metadata": {
        "id": "quMOGpBp_5of"
      }
    },
    {
      "cell_type": "markdown",
      "source": [
        "discrization"
      ],
      "metadata": {
        "id": "2xOK0uP883fQ"
      }
    },
    {
      "cell_type": "code",
      "source": [
        "\n",
        "\n",
        "bins = [0, 50000, 100000, 150000, 200000]\n",
        "labels = ['Low', 'Medium', 'High', 'Very High']\n",
        "data['Salary_Category'] = pd.cut(data['Salary_USD'], bins=bins, labels=labels)  # Categorizing salaries\n",
        "print(\"After Discretization (Salary Categories):\")\n",
        "print(data[['Salary_USD', 'Salary_Category']].head(), \"\\n\")\n",
        "\n",
        "\n",
        "\n"
      ],
      "metadata": {
        "id": "HXA0xv7I88T9",
        "colab": {
          "base_uri": "https://localhost:8080/"
        },
        "outputId": "79e8fdf5-8a70-4ead-e52e-7ed5aaa6194c"
      },
      "execution_count": 25,
      "outputs": [
        {
          "output_type": "stream",
          "name": "stdout",
          "text": [
            "After Discretization (Salary Categories):\n",
            "      Salary_USD Salary_Category\n",
            "0  111392.165243            High\n",
            "1   93792.562466          Medium\n",
            "2  107170.263069            High\n",
            "3   93027.953758          Medium\n",
            "4   87752.922171          Medium \n",
            "\n"
          ]
        }
      ]
    },
    {
      "cell_type": "markdown",
      "source": [
        "we categorize the salary data into discrete ranges to better\n",
        "understand the distribution of salaries. We define bins that represent salary\n",
        "ranges: [0, 50000], [50000, 100000], [100000, 150000], and [150000, 200000].\n",
        "These bins correspond to the labels 'Low', 'Medium', 'High', and 'Very High'.\n",
        "\n",
        "Using the `pd.cut()` function from the pandas library, we create a new column\n",
        "called 'Salary_Category' in the DataFrame, assigning each salary in the\n",
        "'Salary_USD' column to its corresponding category based on the defined bins.\n",
        "This process helps in simplifying the analysis of salary data by allowing us\n",
        "to group salaries into meaningful categories.\n",
        "\n",
        "Finally, we print the first few rows of the modified DataFrame to verify\n",
        "the categorization, displaying both the original salary values and their\n",
        "assigned categories for easy reference."
      ],
      "metadata": {
        "id": "PpYrwjt0AAH5"
      }
    },
    {
      "cell_type": "markdown",
      "source": [
        "Correlation Coefficient"
      ],
      "metadata": {
        "id": "DOTLKKwf9Aar"
      }
    },
    {
      "cell_type": "code",
      "source": [
        "\n",
        "from sklearn.feature_selection import VarianceThreshold\n",
        "\n",
        "cor_job_title = df['Job_Title'].corr(df['Salary_USD'])\n",
        "cor_industry = df['Industry'].corr(df['Salary_USD'])\n",
        "cor_company_size = df['Company_Size'].corr(df['Salary_USD'])\n",
        "cor_location = df['Location'].corr(df['Salary_USD'])\n",
        "cor_ai_adoption = df['AI_Adoption_Level'].corr(df['Salary_USD'])\n",
        "cor_automation_risk = df['Automation_Risk'].corr(df['Salary_USD'])\n",
        "cor_skills = df['Required_Skills'].corr(df['Salary_USD'])\n",
        "cor_remote_friendly = df['Remote_Friendly'].corr(df['Salary_USD'])\n",
        "cor_job_growth = df['Job_Growth_Projection'].corr(df['Salary_USD'])\n",
        "\n",
        "# Print out the correlation coefficients\n",
        "print(\"Correlation coefficients with Salary_USD:\")\n",
        "print(\"Job Title:\", cor_job_title)\n",
        "print(\"Industry:\", cor_industry)\n",
        "print(\"Company Size:\", cor_company_size)\n",
        "print(\"Location:\", cor_location)\n",
        "print(\"AI Adoption Level:\", cor_ai_adoption)\n",
        "print(\"Automation Risk:\", cor_automation_risk)\n",
        "print(\"Required Skills:\", cor_skills)\n",
        "print(\"Remote Friendly:\", cor_remote_friendly)\n",
        "print(\"Job Growth Projection:\", cor_job_growth)\n",
        "\n",
        "\n",
        "\n"
      ],
      "metadata": {
        "id": "mj8IMSbG9ERK",
        "colab": {
          "base_uri": "https://localhost:8080/"
        },
        "outputId": "802c3734-0f94-4220-a8a8-7fe96958dd28"
      },
      "execution_count": 26,
      "outputs": [
        {
          "output_type": "stream",
          "name": "stdout",
          "text": [
            "Correlation coefficients with Salary_USD:\n",
            "Job Title: -0.04827724718090898\n",
            "Industry: -0.09951729971608897\n",
            "Company Size: 0.03141022981363234\n",
            "Location: 0.01067724960834836\n",
            "AI Adoption Level: 0.08479275238063844\n",
            "Automation Risk: -0.12375409875395577\n",
            "Required Skills: 0.04130975263493014\n",
            "Remote Friendly: 0.023121892195725222\n",
            "Job Growth Projection: -0.003562823979027674\n"
          ]
        }
      ]
    },
    {
      "cell_type": "markdown",
      "source": [
        "we calculate the correlation coefficients between various\n",
        "categorical features and the salary data in the 'Salary_USD' column.\n",
        "Correlation analysis helps us understand the strength and direction of\n",
        "the relationship between each feature and salary.\n",
        "\n",
        "We compute the correlation for the following columns: 'Job_Title',\n",
        "'Industry', 'Company_Size', 'Location', 'AI_Adoption_Level',\n",
        "'Automation_Risk', 'Required_Skills', 'Remote_Friendly', and\n",
        "'Job_Growth_Projection'. Each correlation coefficient indicates how\n",
        "strongly the feature is associated with salary, with values ranging from\n",
        "-1 (perfect negative correlation) to 1 (perfect positive correlation).\n",
        "\n",
        "Finally, we print out the correlation coefficients for each feature\n",
        "to provide insight into how they relate to salary levels, which can\n",
        "inform further analysis and decision-making regarding employment trends\n",
        "in the context of AI and automation."
      ],
      "metadata": {
        "id": "SFpNvyS2AFKD"
      }
    },
    {
      "cell_type": "markdown",
      "source": [
        "chi square"
      ],
      "metadata": {
        "id": "g_7Bphl59In-"
      }
    },
    {
      "cell_type": "code",
      "source": [
        "from scipy.stats import chi2_contingency\n",
        "\n",
        "categorical_features = ['Job_Title', 'Industry', 'Company_Size', 'Required_Skills', 'Remote_Friendly']\n",
        "\n",
        "# Target variable\n",
        "target_variable = 'AI_Adoption_Level'\n",
        "\n",
        "# Perform Chi-Square tests for each categorical feature\n",
        "chi2_results = []\n",
        "\n",
        "for feature in categorical_features:\n",
        "    # Create a contingency table\n",
        "    contingency_table = pd.crosstab(data[feature], data[target_variable])\n",
        "\n",
        "    # Perform the Chi-Square test\n",
        "    chi2_stat, p_value, dof, expected = chi2_contingency(contingency_table)\n",
        "\n",
        "    # Store the results\n",
        "    chi2_results.append({\n",
        "        'Feature': feature,\n",
        "        'Chi2 Statistic': chi2_stat,\n",
        "        'p-value': p_value,\n",
        "        'Degrees of Freedom': dof,\n",
        "        'Expected Frequencies': expected\n",
        "    })\n",
        "\n",
        "    # Interpret the results\n",
        "    alpha = 0.05  # significance level\n",
        "    if p_value < alpha:\n",
        "        significance = \"Reject the null hypothesis (significant relationship)\"\n",
        "    else:\n",
        "        significance = \"Fail to reject the null hypothesis (no significant relationship)\"\n",
        "\n",
        "    print(f\"\\nResults for {feature}:\")\n",
        "    print(f\"Chi-Square Statistic: {chi2_stat:.4f}\")\n",
        "    print(f\"p-value: {p_value:.4f}\")\n",
        "    print(f\"Degrees of Freedom: {dof}\")\n",
        "    print(f\"Significance: {significance}\")\n",
        "\n",
        "# Optional: Create a DataFrame for storing all results for easy analysis\n",
        "results_df = pd.DataFrame(chi2_results)\n",
        "print(\"\\nSummary of Chi-Square Test Results:\")\n",
        "print(results_df)\n",
        "\n",
        "\n",
        "\n"
      ],
      "metadata": {
        "id": "ciuj8TAu9MrJ",
        "colab": {
          "base_uri": "https://localhost:8080/"
        },
        "outputId": "73d9b6d2-ae03-4c63-ec11-26496ceb5534"
      },
      "execution_count": 27,
      "outputs": [
        {
          "output_type": "stream",
          "name": "stdout",
          "text": [
            "\n",
            "Results for Job_Title:\n",
            "Chi-Square Statistic: 7.7169\n",
            "p-value: 0.9826\n",
            "Degrees of Freedom: 18\n",
            "Significance: Fail to reject the null hypothesis (no significant relationship)\n",
            "\n",
            "Results for Industry:\n",
            "Chi-Square Statistic: 12.8701\n",
            "p-value: 0.7992\n",
            "Degrees of Freedom: 18\n",
            "Significance: Fail to reject the null hypothesis (no significant relationship)\n",
            "\n",
            "Results for Company_Size:\n",
            "Chi-Square Statistic: 3.9782\n",
            "p-value: 0.4090\n",
            "Degrees of Freedom: 4\n",
            "Significance: Fail to reject the null hypothesis (no significant relationship)\n",
            "\n",
            "Results for Required_Skills:\n",
            "Chi-Square Statistic: 22.3133\n",
            "p-value: 0.2184\n",
            "Degrees of Freedom: 18\n",
            "Significance: Fail to reject the null hypothesis (no significant relationship)\n",
            "\n",
            "Results for Remote_Friendly:\n",
            "Chi-Square Statistic: 1.5915\n",
            "p-value: 0.4513\n",
            "Degrees of Freedom: 2\n",
            "Significance: Fail to reject the null hypothesis (no significant relationship)\n",
            "\n",
            "Summary of Chi-Square Test Results:\n",
            "           Feature  Chi2 Statistic   p-value  Degrees of Freedom  \\\n",
            "0        Job_Title        7.716884  0.982560                  18   \n",
            "1         Industry       12.870081  0.799233                  18   \n",
            "2     Company_Size        3.978172  0.408968                   4   \n",
            "3  Required_Skills       22.313297  0.218372                  18   \n",
            "4  Remote_Friendly        1.591460  0.451252                   2   \n",
            "\n",
            "                                Expected Frequencies  \n",
            "0  [[14.994, 17.748, 18.258], [16.17, 19.14, 19.6...  \n",
            "1  [[16.758, 19.836, 20.406], [14.406, 17.052, 17...  \n",
            "2  [[48.804, 57.768, 59.428], [47.922, 56.724, 58...  \n",
            "3  [[9.996, 11.832, 12.172], [17.052, 20.184, 20....  \n",
            "4  [[73.206, 86.652, 89.142], [73.794, 87.348, 89...  \n"
          ]
        }
      ]
    },
    {
      "cell_type": "markdown",
      "source": [
        "\n",
        "In this section, we perform Chi-Square tests to examine the relationship\n",
        "between various categorical features and the level of AI adoption in the\n",
        "dataset. We focus on the following categorical features: 'Job_Title',\n",
        "'Industry', 'Company_Size', 'Required_Skills', and 'Remote_Friendly'.\n",
        "\n",
        "We chose the Chi-Square test because it is a statistical method that\n",
        "determines whether there is a significant association between two categorical\n",
        "variables. By analyzing these relationships, we can identify if certain\n",
        "job characteristics are related to varying levels of AI adoption, thus\n",
        "gaining insights into how different roles and sectors are embracing\n",
        "automation.\n",
        "\n",
        "For each categorical feature, we create a contingency table using\n",
        "`pd.crosstab()`, which summarizes the frequency distribution of the\n",
        "features against 'AI_Adoption_Level'. We then perform the Chi-Square test\n",
        "using `chi2_contingency()`, which provides the Chi-Square statistic,\n",
        "degrees of freedom, and expected frequencies.\n",
        "\n",
        "Finally, we print the contingency table along with the test results,\n",
        "allowing us to assess whether the categorical features have a\n",
        "statistically significant relationship with AI adoption levels, which\n",
        "is critical for understanding employment trends in the context of AI\n",
        "and automation.\n",
        "\"\"\""
      ],
      "metadata": {
        "id": "D2huAzJkANrh"
      }
    },
    {
      "cell_type": "markdown",
      "source": [
        "Variance Threshold (Filter Method)\n"
      ],
      "metadata": {
        "id": "pbhyzIKJD8OY"
      }
    },
    {
      "cell_type": "code",
      "source": [
        "from sklearn.feature_selection import VarianceThreshold\n",
        "print(\"Original Dataset:\")\n",
        "print(df.head())\n",
        "\n",
        "# Select only the numeric columns for feature selection\n",
        "X = df.select_dtypes(include=[float, int])\n",
        "\n",
        "# Apply Variance Threshold (setting threshold=0.2 as an example)\n",
        "selector = VarianceThreshold(threshold=0.2)\n",
        "X_new = selector.fit_transform(X)\n",
        "\n",
        "# Display the selected features\n",
        "selected_features = [f\"feature_{i}\" for i in range(X.shape[1]) if selector.get_support()[i]]\n",
        "\n",
        "# Create a DataFrame with the selected features for better visualization\n",
        "df_selected = pd.DataFrame(X_new, columns=selected_features)\n",
        "\n",
        "print(\"\\nSelected Features after Variance Threshold:\")\n",
        "print(df_selected.head())"
      ],
      "metadata": {
        "colab": {
          "base_uri": "https://localhost:8080/"
        },
        "id": "zl6XAcnED_fg",
        "outputId": "fad1a094-d756-4485-fc92-59d2527a50ff"
      },
      "execution_count": 28,
      "outputs": [
        {
          "output_type": "stream",
          "name": "stdout",
          "text": [
            "Original Dataset:\n",
            "   Job_Title  Industry  Company_Size  Location  AI_Adoption_Level  \\\n",
            "0        0.1       0.2           0.2       0.1                0.2   \n",
            "1        0.4       0.7           0.0       0.6                0.2   \n",
            "2        0.0       0.7           0.0       0.6                0.2   \n",
            "3        0.7       0.6           0.2       0.0                0.1   \n",
            "4        0.1       0.2           0.2       0.8                0.1   \n",
            "\n",
            "   Automation_Risk  Required_Skills  Salary_USD  Remote_Friendly  \\\n",
            "0              0.0              0.9    0.111392                1   \n",
            "1              0.0              0.5    0.093793                0   \n",
            "2              0.0              0.9    0.107170                1   \n",
            "3              0.0              0.6    0.093028                0   \n",
            "4              0.1              0.3    0.087753                1   \n",
            "\n",
            "   Job_Growth_Projection  \n",
            "0                    0.1  \n",
            "1                    0.0  \n",
            "2                    0.1  \n",
            "3                    0.1  \n",
            "4                    0.0  \n",
            "\n",
            "Selected Features after Variance Threshold:\n",
            "   feature_8\n",
            "0        1.0\n",
            "1        0.0\n",
            "2        1.0\n",
            "3        0.0\n",
            "4        1.0\n"
          ]
        }
      ]
    },
    {
      "cell_type": "markdown",
      "source": [
        "we apply the Variance Threshold method to perform feature selection on our dataset, which focuses on analyzing AI and automation's impact on employment. First, we load the dataset and select only the numeric features, such as salary and AI adoption metrics, since variance is only meaningful for continuous data. We then apply the Variance Threshold with a threshold of 0.2 to remove features with low variance, as these provide little value in the analysis due to their lack of variability. By filtering out these low-variance features, we streamline the dataset, keeping only those that contribute meaningful information. Finally, we extract the selected features and display them in a new DataFrame, making it easier to interpret the data and use it for further analysis. This approach reduces noise in the dataset and enhances the effectiveness of future modeling or trend analysis by focusing on the most relevant features."
      ],
      "metadata": {
        "id": "jVV79sJ_F88y"
      }
    }
  ]
}